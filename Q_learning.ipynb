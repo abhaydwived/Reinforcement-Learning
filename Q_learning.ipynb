{
 "cells": [
  {
   "cell_type": "code",
   "execution_count": 2,
   "id": "0f779aa3",
   "metadata": {},
   "outputs": [],
   "source": [
    "import numpy as np\n",
    "import gym\n",
    "import random "
   ]
  },
  {
   "cell_type": "markdown",
   "id": "3336ab33",
   "metadata": {},
   "source": [
    "Initialize Environment and Q-table"
   ]
  },
  {
   "cell_type": "code",
   "execution_count": 8,
   "id": "200352bd",
   "metadata": {},
   "outputs": [
    {
     "name": "stdout",
     "output_type": "stream",
     "text": [
      "16\n",
      "4\n"
     ]
    }
   ],
   "source": [
    "env = gym.make(\"FrozenLake-v1\", is_slippery = False, render_mode = \"human\")\n",
    "\n",
    "state_size = env.observation_space.n\n",
    "action_size = env.action_space.n\n",
    "\n",
    "q_table = np.zeros((state_size,action_size))\n",
    "print(state_size)\n",
    "print(action_size)"
   ]
  },
  {
   "cell_type": "markdown",
   "id": "fed26ebf",
   "metadata": {},
   "source": [
    "Q(s,a) = Q(s, a) + α[ r + γ maxa Q(s′, a′) − Q(s, a) ]\n",
    "Where:\n",
    "\n",
    "s: current state\n",
    "\n",
    "a: action taken\n",
    "\n",
    "r: reward received\n",
    "\n",
    "s′: next state\n",
    "\n",
    "α: learning rate\n",
    "\n",
    "γ: discount factor"
   ]
  },
  {
   "cell_type": "markdown",
   "id": "15355c8d",
   "metadata": {},
   "source": [
    "Set Hyperparameters"
   ]
  },
  {
   "cell_type": "code",
   "execution_count": 4,
   "id": "21fd6d86",
   "metadata": {},
   "outputs": [],
   "source": [
    "episodes = 1000\n",
    "max_steps = 100\n",
    "\n",
    "learning_rate = 0.8      # alpha\n",
    "discount_rate = 0.95     # gamma\n",
    "exploration_rate = 1.0   # epsilon\n",
    "max_exploration_rate = 1.0\n",
    "min_exploration_rate = 0.01\n",
    "exploration_decay_rate = 0.001\n"
   ]
  },
  {
   "cell_type": "markdown",
   "id": "29692e24",
   "metadata": {},
   "source": [
    "Train the Agent"
   ]
  },
  {
   "cell_type": "code",
   "execution_count": 5,
   "id": "ff571b03",
   "metadata": {},
   "outputs": [
    {
     "name": "stderr",
     "output_type": "stream",
     "text": [
      "c:\\Users\\abhay\\AppData\\Local\\Programs\\Python\\Python312\\Lib\\site-packages\\gym\\utils\\passive_env_checker.py:233: DeprecationWarning: `np.bool8` is a deprecated alias for `np.bool_`.  (Deprecated NumPy 1.24)\n",
      "  if not isinstance(terminated, (bool, np.bool8)):\n"
     ]
    }
   ],
   "source": [
    "for episode in range(episodes):\n",
    "    state = env.reset()[0]\n",
    "    done = False\n",
    "    \n",
    "    for step in range(max_steps):\n",
    "        # Exploration vs Exploitation\n",
    "        if random.uniform(0, 1) < exploration_rate:\n",
    "            action = env.action_space.sample()  # explore\n",
    "        else:\n",
    "            action = np.argmax(q_table[state, :])  # exploit\n",
    "\n",
    "        new_state, reward, done, truncated, info = env.step(action)\n",
    "\n",
    "        # Q-learning update\n",
    "        q_table[state, action] = q_table[state, action] + learning_rate * (\n",
    "            reward + discount_rate * np.max(q_table[new_state, :]) - q_table[state, action]\n",
    "        )\n",
    "\n",
    "        state = new_state\n",
    "\n",
    "        if done:\n",
    "            break\n",
    "\n",
    "    # Decay exploration rate\n",
    "    exploration_rate = min_exploration_rate + \\\n",
    "        (max_exploration_rate - min_exploration_rate) * np.exp(-exploration_decay_rate * episode)\n"
   ]
  },
  {
   "cell_type": "markdown",
   "id": "639010d3",
   "metadata": {},
   "source": [
    "Evaluate the Agent"
   ]
  },
  {
   "cell_type": "code",
   "execution_count": 6,
   "id": "4932ebbc",
   "metadata": {},
   "outputs": [
    {
     "name": "stdout",
     "output_type": "stream",
     "text": [
      "Average reward over 100 episodes: 1.0\n"
     ]
    }
   ],
   "source": [
    "total_rewards = 0\n",
    "\n",
    "for episode in range(100):\n",
    "    state = env.reset()[0]\n",
    "    done = False\n",
    "    for step in range(max_steps):\n",
    "        action = np.argmax(q_table[state, :])  # always exploit\n",
    "        new_state, reward, done, truncated, info = env.step(action)\n",
    "        total_rewards += reward\n",
    "        state = new_state\n",
    "        if done:\n",
    "            break\n",
    "\n",
    "print(f\"Average reward over 100 episodes: {total_rewards / 100}\")\n"
   ]
  },
  {
   "cell_type": "markdown",
   "id": "cc9f094e",
   "metadata": {},
   "source": [
    "Optional – Visualize One Episode"
   ]
  },
  {
   "cell_type": "code",
   "execution_count": 7,
   "id": "d43369e1",
   "metadata": {},
   "outputs": [],
   "source": [
    "state = env.reset()[0]\n",
    "env.render()\n",
    "for step in range(max_steps):\n",
    "    action = np.argmax(q_table[state, :])\n",
    "    new_state, reward, done, truncated, info = env.step(action)\n",
    "    env.render()\n",
    "    state = new_state\n",
    "    if done:\n",
    "        break\n",
    "\n",
    "env.close()\n"
   ]
  }
 ],
 "metadata": {
  "kernelspec": {
   "display_name": "Python 3",
   "language": "python",
   "name": "python3"
  },
  "language_info": {
   "codemirror_mode": {
    "name": "ipython",
    "version": 3
   },
   "file_extension": ".py",
   "mimetype": "text/x-python",
   "name": "python",
   "nbconvert_exporter": "python",
   "pygments_lexer": "ipython3",
   "version": "3.12.9"
  }
 },
 "nbformat": 4,
 "nbformat_minor": 5
}
